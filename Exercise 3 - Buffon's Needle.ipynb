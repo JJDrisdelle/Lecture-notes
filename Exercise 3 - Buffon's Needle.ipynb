{
  "cells": [
    {
      "cell_type": "markdown",
      "metadata": {
        "id": "eBiCT1yNHZfP"
      },
      "source": [
        "__Justyn Drisdelle__\n",
        "<br>\n",
        "Date: Jan. 17, 2021\n",
        "<br>\n",
        "PHYS 2030 W22"
      ]
    },
    {
      "cell_type": "markdown",
      "metadata": {
        "id": "VqyU6vxQHZfQ"
      },
      "source": [
        "## <center><font color=#46769B>Exercise 3: Buffon's needle</font></center>\n",
        "\n",
        "## <font color=#46769B>Introduction:</font>\n",
        "\n",
        "Our goals for this notebook are:\n",
        "- Use Monte Carlo sampling to make a numerical estimation for $\\pi$\n",
        "\n",
        "Required reading:\n",
        "- *Lesson 2: Monte Carlo sampling*"
      ]
    },
    {
      "cell_type": "markdown",
      "metadata": {
        "id": "dmLtZtv2HZfR"
      },
      "source": [
        "## <font color=#46769B>Buffon's needle:</font>\n",
        "\n",
        "__Buffon's needle__ is a classic problem in Monte Carlo sampling, originally posed by the 18th century naturalist and mathematician George-Louis Leclerc. The problem is as follows:\n",
        "> Suppose you drop needles of length $\\ell$ at random onto a floor that has a series of equidistant parallel lines, with separation distance $d$. Provided $\\ell \\le d$, the probability that a needle will cross a line on the floor is\n",
        "$$p = \\frac{2\\ell}{\\pi d} \\, . \\qquad {\\rm (1)} $$\n",
        "\n",
        "\n",
        "\n",
        "[Figure credit: Wolfram Mathworld](https://mathworld.wolfram.com/BuffonsNeedleProblem.html)\n",
        "\n",
        "## <font color=#46769B>Goal:</font>\n",
        "We will *not* prove this result analytically. (Proofs can be found online for the curious reader.) \n",
        "Rearranging Eq. (1), we have \n",
        "$$\\pi = \\frac{2\\ell}{p d} \\, . \\qquad {\\rm (2)} $$\n",
        "Our goal is to perform a Monte Carlo simulation where we drop $N$ needles on a suitably-lined floor, estimate the probability $p$, and thereby provide a numerical estimate for $\\pi$ according to Eq. (2).\n",
        "\n",
        "For each neeedle drop, we have two discrete choices, labeled by $x$: \n",
        "- The needle crosses a line, labeled as $x=1$, occuring with probability $p$.\n",
        "- The needle does not cross a line, labeled as $x=0$, occuring with probability $1-p$.\n",
        "\n",
        "We write it in this way to make it clear that we are dealing with the same Bernoulli distribution we had for flipping a coin. Although we don't know $p$ *a priori*, we recall that $\\langle x \\rangle$ approaches the true mean $\\mu = p$ for large $N$, according to the Law of Large Numbers and the Central Limit Theorem.\n",
        "\n",
        "In other words, we simply count the number of needles that cross a line, $N_{\\rm cross}$. Then $\\langle x \\rangle = N_{\\rm cross}/N$ is our estimate for $p$, which allows us to estimate $\\pi$.\n"
      ]
    },
    {
      "cell_type": "markdown",
      "metadata": {
        "id": "XdpKmrqNHZfS"
      },
      "source": [
        "## <font color=#46769B>Exercise</font>\n",
        "\n",
        "### <font color=#46769B>Part (a)</font>\n",
        "\n",
        "Perform a simulation as described above, setting $\\ell = d = 1$. Write a function `buffon_needle(num)` that will drop `num` needles and return $\\langle x \\rangle$, the fraction of needles in your samples that cross a line. (Neglect the width of the needles and assume they are simply straight line segments.)\n",
        "\n",
        "*Hint*: Label each end of the needle with coordinates in the plane of the floor, $\\vec{r}_1 = (x_1, y_1)$ and $\\vec{r}_2 = (x_2, y_2)$. First, randomly sample $\\vec{r}_1$, noting:\n",
        "- There is a periodic translational symmetry in the $x$-direction, so you can limit your attention to $0 \\le x_1 \\le d$.\n",
        "- There is translational symmetry in the $y$ direction, so you can choose $y_1$ to be anything you like.\n",
        "\n",
        "Next, randomly choose $\\vec{r}_2$, such that\n",
        "- All orientations of the needle are equally likely.\n",
        "- The length of the needle, $|\\vec{r}_2 - \\vec{r}_1|$, is fixed to be $d$.\n",
        "\n",
        "### <font color=#46769B>Part (b)</font>\n",
        "\n",
        "For $N=10^4$, calculate the mean value of $\\pi$, $\\langle \\pi \\rangle$. What is uncertainty on this value?"
      ]
    },
    {
      "cell_type": "code",
      "source": [
        "import numpy as np\n",
        "import matplotlib.pyplot as plt\n",
        "\n",
        "\n",
        "\n",
        "def buffonNeedle(num,L,D):\n",
        "\n",
        "    #the variable to store the number of times the needle touches the line\n",
        "    needleTouches = 0\n",
        "\n",
        "   \n",
        "    for itr in range(num):\n",
        "\n",
        "        #Generate a random starting point between 0 and D (1)\n",
        "        r1 = random.uniform(0,D)\n",
        "\n",
        "        #Generate an angle for which the needle will drop at\n",
        "        angle = random.uniform(0,math.pi/2)\n",
        "\n",
        "        #Starting value minus the distance of the needle calculated with the angle in mind\n",
        "        r2 = r1 - (L)*math.cos(angle)\n",
        "\n",
        "        #if needle touches the line\n",
        "        if r2 < 0 :\n",
        "\n",
        "            needleTouches += 1\n",
        "\n",
        "    #Estimating the value of pi\n",
        "    d = 2.0*L*num\n",
        "    y = D*needleTouches\n",
        "    print ('Mean value of Pi = '+str(d/y))\n",
        "\n",
        "\n",
        "#number of simulation 10^4    \n",
        "n=10000\n",
        "\n",
        "#needle length\n",
        "L = 1\n",
        "\n",
        "#line width\n",
        "D = 1\n",
        "\n",
        "\n",
        "buffonNeedle(n,L,D)"
      ],
      "metadata": {
        "colab": {
          "base_uri": "https://localhost:8080/"
        },
        "id": "oYi41-dhIZqF",
        "outputId": "730b3a9b-14ba-4249-9263-d62852fcbfe2"
      },
      "execution_count": 79,
      "outputs": [
        {
          "output_type": "stream",
          "name": "stdout",
          "text": [
            "Mean value of Pi = 3.1328320802005014\n"
          ]
        }
      ]
    },
    {
      "cell_type": "markdown",
      "source": [
        "Uncertainty = +/- 0.05"
      ],
      "metadata": {
        "id": "CCcmPwYffv3w"
      }
    }
  ],
  "metadata": {
    "kernelspec": {
      "display_name": "Python 3",
      "language": "python",
      "name": "python3"
    },
    "language_info": {
      "codemirror_mode": {
        "name": "ipython",
        "version": 3
      },
      "file_extension": ".py",
      "mimetype": "text/x-python",
      "name": "python",
      "nbconvert_exporter": "python",
      "pygments_lexer": "ipython3",
      "version": "3.7.6"
    },
    "colab": {
      "name": "Exercise 3 - Buffon's Needle.ipynb",
      "provenance": []
    }
  },
  "nbformat": 4,
  "nbformat_minor": 0
}